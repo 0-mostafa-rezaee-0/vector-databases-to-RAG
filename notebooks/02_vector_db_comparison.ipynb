{
  "cells": [
    {
      "cell_type": "markdown",
      "metadata": {},
      "source": [
        "# Vector DB Comparison (Hands-on)\n",
        "\n",
        "We will index a few docs in Chroma and query them as a baseline.\n"
      ]
    },
    {
      "cell_type": "code",
      "execution_count": null,
      "metadata": {},
      "outputs": [],
      "source": [
        "import chromadb\n",
        "from chromadb.config import Settings\n",
        "from sentence_transformers import SentenceTransformer\n",
        "\n",
        "client = chromadb.Client(Settings(is_persistent=True, persist_directory=\"./data/chroma_store\"))\n",
        "coll = client.get_or_create_collection(\"compare\")\n",
        "\n",
        "texts = [\"Chroma is simple.\", \"PGVector works inside Postgres.\", \"Pinecone is managed.\"]\n",
        "model = SentenceTransformer(\"sentence-transformers/all-MiniLM-L6-v2\")\n",
        "vecs = model.encode(texts, convert_to_numpy=True).tolist()\n",
        "coll.upsert(ids=[f\"t{i}\" for i in range(len(texts))], documents=texts, embeddings=vecs)\n",
        "\n",
        "print(coll.query(query_texts=[\"What is Pinecone?\"], n_results=2))\n"
      ]
    }
  ],
  "metadata": {
    "language_info": {
      "name": "python"
    }
  },
  "nbformat": 4,
  "nbformat_minor": 2
}
