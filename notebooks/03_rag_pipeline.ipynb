{
  "cells": [
    {
      "cell_type": "markdown",
      "metadata": {},
      "source": [
        "# RAG Pipeline (Minimal)\n",
        "\n",
        "This notebook seeds a tiny KB in Chroma and runs a stubbed LLM for demonstration.\n"
      ]
    },
    {
      "cell_type": "code",
      "execution_count": null,
      "metadata": {},
      "outputs": [],
      "source": [
        "from chromadb import Client\n",
        "from chromadb.config import Settings\n",
        "from sentence_transformers import SentenceTransformer\n",
        "\n",
        "client = Client(Settings(is_persistent=True, persist_directory=\"./data/chroma_store\"))\n",
        "coll = client.get_or_create_collection(\"rag\")\n",
        "\n",
        "if coll.count() == 0:\n",
        "    docs = [\n",
        "        \"RAG retrieves relevant documents and augments LLM prompts.\",\n",
        "        \"Embeddings map text to vectors enabling semantic similarity.\",\n",
        "        \"Chroma is a lightweight local vector database.\",\n",
        "    ]\n",
        "    model = SentenceTransformer(\"sentence-transformers/all-MiniLM-L6-v2\")\n",
        "    vecs = model.encode(docs, convert_to_numpy=True).tolist()\n",
        "    coll.upsert(ids=[f\"kb-{i}\" for i in range(len(docs))], documents=docs, embeddings=vecs)\n",
        "\n",
        "print(coll.query(query_texts=[\"What is RAG?\"], n_results=2))\n"
      ]
    }
  ],
  "metadata": {
    "language_info": {
      "name": "python"
    }
  },
  "nbformat": 4,
  "nbformat_minor": 2
}
