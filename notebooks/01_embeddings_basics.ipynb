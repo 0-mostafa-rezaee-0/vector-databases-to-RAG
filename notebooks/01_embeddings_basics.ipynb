{
  "cells": [
    {
      "cell_type": "markdown",
      "metadata": {},
      "source": [
        "# Embeddings Basics\n",
        "\n",
        "This notebook demonstrates creating text embeddings and measuring cosine similarity.\n"
      ]
    },
    {
      "cell_type": "code",
      "execution_count": null,
      "metadata": {},
      "outputs": [],
      "source": [
        "from sentence_transformers import SentenceTransformer\n",
        "import numpy as np\n",
        "\n",
        "def cosine(a, b):\n",
        "    return float(np.dot(a, b) / (np.linalg.norm(a) * np.linalg.norm(b)))\n",
        "\n",
        "model = SentenceTransformer(\"sentence-transformers/all-MiniLM-L6-v2\")\n",
        "texts = [\"vector databases\", \"similarity search\", \"cooking pasta\"]\n",
        "vecs = model.encode(texts, convert_to_numpy=True)\n",
        "\n",
        "for i, t in enumerate(texts):\n",
        "    print(i, t, vecs[i][:3])\n",
        "\n",
        "print(\"cosine(0,1)=\", round(cosine(vecs[0], vecs[1]), 3))\n"
      ]
    }
  ],
  "metadata": {
    "language_info": {
      "name": "python"
    }
  },
  "nbformat": 4,
  "nbformat_minor": 2
}
